{
 "cells": [
  {
   "cell_type": "markdown",
   "metadata": {},
   "source": [
    "# WeatherPy\n",
    "----\n",
    "\n",
    "#### Note\n",
    "* Instructions have been included for each segment. You do not have to follow them exactly, but they are included to help you think through the steps."
   ]
  },
  {
   "cell_type": "code",
   "execution_count": 24,
   "metadata": {
    "scrolled": true
   },
   "outputs": [
    {
     "ename": "ModuleNotFoundError",
     "evalue": "No module named 'config'",
     "output_type": "error",
     "traceback": [
      "\u001b[1;31m---------------------------------------------------------------------------\u001b[0m",
      "\u001b[1;31mModuleNotFoundError\u001b[0m                       Traceback (most recent call last)",
      "\u001b[1;32m<ipython-input-24-42776a904e85>\u001b[0m in \u001b[0;36m<module>\u001b[1;34m\u001b[0m\n\u001b[0;32m     12\u001b[0m \u001b[1;33m\u001b[0m\u001b[0m\n\u001b[0;32m     13\u001b[0m \u001b[1;31m# Import API key\u001b[0m\u001b[1;33m\u001b[0m\u001b[1;33m\u001b[0m\u001b[1;33m\u001b[0m\u001b[0m\n\u001b[1;32m---> 14\u001b[1;33m \u001b[1;32mfrom\u001b[0m \u001b[0mconfig\u001b[0m \u001b[1;32mimport\u001b[0m \u001b[0mapi_key\u001b[0m\u001b[1;33m\u001b[0m\u001b[1;33m\u001b[0m\u001b[0m\n\u001b[0m",
      "\u001b[1;31mModuleNotFoundError\u001b[0m: No module named 'config'"
     ]
    }
   ],
   "source": [
    "\n",
    "# Import dependencies\n",
    "import pandas as pd\n",
    "import matplotlib.pyplot as plt\n",
    "import numpy as np\n",
    "from pprint import pprint\n",
    "import openweathermap.core as owm\n",
    "from citipy import citipy\n",
    "import requests\n",
    "import seaborn as sns\n",
    "from datetime import datetime\n",
    "\n",
    "# Import API key\n",
    "from config import api_key"
   ]
  },
  {
   "cell_type": "markdown",
   "metadata": {},
   "source": [
    "## Generate Cities List"
   ]
  },
  {
   "cell_type": "code",
   "execution_count": 26,
   "metadata": {},
   "outputs": [],
   "source": [
    "\n",
    "#initialize our lists to track the cities\n",
    "\n",
    "# 700 cities, because why the heck not\n",
    "\n",
    "n = 700\n",
    "cities = []\n",
    "country_codes = []\n",
    "\n",
    "for x in range(n):\n",
    "    lat = np.random.uniform(-90, 90)\n",
    "    lng = np.random.uniform(-180, 180)\n",
    "    city = citipy.nearest_city(lat, lng)\n",
    "    \n",
    "    # Make sure that the randomly generated city is not already in our series\n",
    "    # If it is, regenerate the lat and lng until we get one that isn't\n",
    "    while city.city_name in cities:\n",
    "        lat = np.random.uniform(-90, 90)\n",
    "        lng = np.random.uniform(-180, 180)\n",
    "        city = citipy.nearest_city(lat, lng)\n",
    "    \n",
    "    # Add the data to our lists\n",
    "    cities.append(city.city_name)\n",
    "    country_codes.append(city.country_code)\n",
    "    \n",
    "country_codes = [x.upper() for x in country_codes]"
   ]
  },
  {
   "cell_type": "markdown",
   "metadata": {},
   "source": [
    "### Perform API Calls\n",
    "* Perform a weather check on each city using a series of successive API calls.\n",
    "* Include a print log of each city as it'sbeing processed (with the city number and city name).\n"
   ]
  },
  {
   "cell_type": "code",
   "execution_count": null,
   "metadata": {},
   "outputs": [],
   "source": [
    "# Create base URL and indicate imperial units\n",
    "url = \"http://maps.openweathermap.org/maps/2.0/weather/{op}/{z}/{x}/{y}\"\n",
    "units = \"imperial\""
   ]
  },
  {
   "cell_type": "code",
   "execution_count": null,
   "metadata": {},
   "outputs": [],
   "source": [
    "# Build partial query URL\n",
    "query = f\"{url}appid={api_key}&units={units}&q=\""
   ]
  },
  {
   "cell_type": "code",
   "execution_count": null,
   "metadata": {},
   "outputs": [],
   "source": [
    "# Create an \"extracts\" object to get the temperature, humidity, cloudiness and wind speed\n",
    "latitude = []\n",
    "longitude = []\n",
    "temperature = []\n",
    "humidity = []\n",
    "cloudiness = []\n",
    "wind_speed = []\n",
    "dates = []\n",
    "\n",
    "for x in range(len(cities)):\n",
    "    response = requests.get(f\"{query}{cities[x]},{country_codes[x].upper()}\").json()\n",
    "    \n",
    "    # Some of the cities we generate don't have data in openweathermap, so set their values to numpy's NaN\n",
    "    try:\n",
    "        temperature.append(response['main']['temp_max'])\n",
    "        latitude.append(response['coord']['lat'])\n",
    "        longitude.append(response['coord']['lon'])\n",
    "        humidity.append(response['main']['humidity'])\n",
    "        wind_speed.append(response['wind']['speed'])\n",
    "        dates.append(response['dt'])\n",
    "    except KeyError:\n",
    "        temperature.append(np.nan)\n",
    "        latitude.append(np.nan)\n",
    "        longitude.append(np.nan)\n",
    "        humidity.append(np.nan)\n",
    "        wind_speed.append(np.nan)\n",
    "        dates.append(np.nan)\n",
    "    \n",
    "    # Sometimes it's not cloudy! Then 'clouds' does not exist, so set it to zero.\n",
    "    try:\n",
    "        cloudiness.append(response['clouds']['all'])\n",
    "    except KeyError:\n",
    "        cloudiness.append(0)\n",
    "        \n",
    "    # Print each city name and query string    \n",
    "    print(f\"Processing record {x + 1} | {cities[x]}\")\n",
    "    print(f\"{query}{cities[x]},{country_codes[x].upper()}\")\n",
    "\n",
    "print(\"--------------------------------------------\")\n",
    "print(\"Data Processing Complete\")\n",
    "print(\"--------------------------------------------\")\n",
    "\n",
    "# Assemble everything into a data frame\n",
    "weather_df = pd.DataFrame({\"City\": cities,\n",
    "                           \"Latitude\": latitude,\n",
    "                           \"Longitude\": longitude,\n",
    "                           \"Humidity\": humidity,\n",
    "                           \"Max Temp\": temperature,\n",
    "                           \"Cloudiness\": cloudiness,\n",
    "                           \"Wind Speed\": wind_speed,\n",
    "                           \"Date\": dates,\n",
    "                           \"Country\": country_codes\n",
    "                          })"
   ]
  },
  {
   "cell_type": "code",
   "execution_count": null,
   "metadata": {},
   "outputs": [],
   "source": [
    "# Remove any cities that have NaN values\n",
    "weather_df = weather_df.dropna(how='any')\n",
    "\n",
    "print(f\"The data frame contains {len(weather_df['City'])} unique cities.\")"
   ]
  },
  {
   "cell_type": "code",
   "execution_count": null,
   "metadata": {},
   "outputs": [],
   "source": [
    "weather_df.head()"
   ]
  },
  {
   "cell_type": "markdown",
   "metadata": {},
   "source": [
    "### Plotting the Data\n",
    "* Use proper labeling of the plots using plot titles (including date of analysis) and axes labels.\n",
    "* Save the plotted figures as .pngs."
   ]
  },
  {
   "cell_type": "markdown",
   "metadata": {},
   "source": [
    "#### Latitude vs. Temperature Plot"
   ]
  },
  {
   "cell_type": "code",
   "execution_count": 20,
   "metadata": {},
   "outputs": [
    {
     "ename": "NameError",
     "evalue": "name 'weather_df' is not defined",
     "output_type": "error",
     "traceback": [
      "\u001b[1;31m---------------------------------------------------------------------------\u001b[0m",
      "\u001b[1;31mNameError\u001b[0m                                 Traceback (most recent call last)",
      "\u001b[1;32m<ipython-input-20-c42c510598e0>\u001b[0m in \u001b[0;36m<module>\u001b[1;34m\u001b[0m\n\u001b[0;32m      7\u001b[0m \u001b[1;33m\u001b[0m\u001b[0m\n\u001b[0;32m      8\u001b[0m \u001b[1;31m# Plot the lat vs the max temp\u001b[0m\u001b[1;33m\u001b[0m\u001b[1;33m\u001b[0m\u001b[1;33m\u001b[0m\u001b[0m\n\u001b[1;32m----> 9\u001b[1;33m plt.scatter(x = weather_df['Latitude'], y = weather_df['Max Temp'],\n\u001b[0m\u001b[0;32m     10\u001b[0m             linewidths = 0.75, edgecolors = 'black', color = 'blue', s=35)\n\u001b[0;32m     11\u001b[0m \u001b[1;33m\u001b[0m\u001b[0m\n",
      "\u001b[1;31mNameError\u001b[0m: name 'weather_df' is not defined"
     ]
    },
    {
     "data": {
      "text/plain": [
       "<Figure size 648x432 with 0 Axes>"
      ]
     },
     "metadata": {},
     "output_type": "display_data"
    }
   ],
   "source": [
    "\n",
    "# Set the aesthetic using Seaborn\n",
    "sns.set()\n",
    "\n",
    "# Increase the size of the figure\n",
    "plt.figure(figsize=(9,6))\n",
    "\n",
    "# Plot the lat vs the max temp\n",
    "plt.scatter(x = weather_df['Latitude'], y = weather_df['Max Temp'],\n",
    "            linewidths = 0.75, edgecolors = 'black', color = 'blue', s=35)\n",
    "\n",
    "# Add labeling\n",
    "# This extracts the date and returns it in the local time zone\n",
    "weather_dt = datetime.fromtimestamp(weather_df.loc[0,\"Date\"]).strftime('%Y-%m-%d')\n",
    "plt.title(f\"Latitude vs. Max Temperature ({weather_dt})\")\n",
    "plt.xlabel(\"Latitude\")\n",
    "plt.ylabel(\"Max Temperature (F)\")\n",
    "\n",
    "# Modify ticks\n",
    "plt.xlim(-80,100)\n",
    "plt.ylim(min(weather_df['Max Temp']) - 10, max(weather_df['Max Temp']) + 10)\n",
    "\n",
    "\n",
    "plt.show()"
   ]
  },
  {
   "cell_type": "markdown",
   "metadata": {},
   "source": [
    "#### Latitude vs. Humidity Plot"
   ]
  },
  {
   "cell_type": "code",
   "execution_count": 21,
   "metadata": {},
   "outputs": [
    {
     "ename": "NameError",
     "evalue": "name 'weather_df' is not defined",
     "output_type": "error",
     "traceback": [
      "\u001b[1;31m---------------------------------------------------------------------------\u001b[0m",
      "\u001b[1;31mNameError\u001b[0m                                 Traceback (most recent call last)",
      "\u001b[1;32m<ipython-input-21-8b3c67476e47>\u001b[0m in \u001b[0;36m<module>\u001b[1;34m\u001b[0m\n\u001b[0;32m      6\u001b[0m \u001b[1;33m\u001b[0m\u001b[0m\n\u001b[0;32m      7\u001b[0m \u001b[1;31m# Plot the lat vs the max temp\u001b[0m\u001b[1;33m\u001b[0m\u001b[1;33m\u001b[0m\u001b[1;33m\u001b[0m\u001b[0m\n\u001b[1;32m----> 8\u001b[1;33m plt.scatter(x = weather_df['Latitude'], y = weather_df['Humidity'],\n\u001b[0m\u001b[0;32m      9\u001b[0m             linewidths = 0.75, edgecolors = 'black', color = 'blue', s=35)\n\u001b[0;32m     10\u001b[0m \u001b[1;33m\u001b[0m\u001b[0m\n",
      "\u001b[1;31mNameError\u001b[0m: name 'weather_df' is not defined"
     ]
    },
    {
     "data": {
      "text/plain": [
       "<Figure size 648x432 with 0 Axes>"
      ]
     },
     "metadata": {},
     "output_type": "display_data"
    }
   ],
   "source": [
    "# Set the aesthetic using Seaborn\n",
    "sns.set()\n",
    "\n",
    "# Increase the size of the figure\n",
    "plt.figure(figsize=(9,6))\n",
    "\n",
    "# Plot the lat vs the max temp\n",
    "plt.scatter(x = weather_df['Latitude'], y = weather_df['Humidity'],\n",
    "            linewidths = 0.75, edgecolors = 'black', color = 'blue', s=35)\n",
    "\n",
    "# Add labeling\n",
    "# This extracts the date and returns it in the local time zone\n",
    "weather_dt = datetime.fromtimestamp(weather_df.loc[0,\"Date\"]).strftime('%Y-%m-%d')\n",
    "plt.title(f\"Latitude vs. Humidity ({weather_dt})\")\n",
    "plt.xlabel(\"Latitude\")\n",
    "plt.ylabel(\"Humidity (%)\")\n",
    "\n",
    "# Modify ticks\n",
    "plt.xlim(-80,100)\n",
    "plt.ylim(-10, 110)\n",
    "\n",
    "\n",
    "plt.show()"
   ]
  },
  {
   "cell_type": "markdown",
   "metadata": {},
   "source": [
    "#### Latitude vs. Cloudiness Plot"
   ]
  },
  {
   "cell_type": "code",
   "execution_count": 22,
   "metadata": {},
   "outputs": [
    {
     "ename": "NameError",
     "evalue": "name 'weather_df' is not defined",
     "output_type": "error",
     "traceback": [
      "\u001b[1;31m---------------------------------------------------------------------------\u001b[0m",
      "\u001b[1;31mNameError\u001b[0m                                 Traceback (most recent call last)",
      "\u001b[1;32m<ipython-input-22-8563b3f5f0cf>\u001b[0m in \u001b[0;36m<module>\u001b[1;34m\u001b[0m\n\u001b[0;32m      6\u001b[0m \u001b[1;33m\u001b[0m\u001b[0m\n\u001b[0;32m      7\u001b[0m \u001b[1;31m# Plot the lat vs the max temp\u001b[0m\u001b[1;33m\u001b[0m\u001b[1;33m\u001b[0m\u001b[1;33m\u001b[0m\u001b[0m\n\u001b[1;32m----> 8\u001b[1;33m plt.scatter(x = weather_df['Latitude'], y = weather_df['Cloudiness'],\n\u001b[0m\u001b[0;32m      9\u001b[0m             linewidths = 0.75, edgecolors = 'black', color = 'blue', s=35)\n\u001b[0;32m     10\u001b[0m \u001b[1;33m\u001b[0m\u001b[0m\n",
      "\u001b[1;31mNameError\u001b[0m: name 'weather_df' is not defined"
     ]
    },
    {
     "data": {
      "text/plain": [
       "<Figure size 648x432 with 0 Axes>"
      ]
     },
     "metadata": {},
     "output_type": "display_data"
    }
   ],
   "source": [
    "# Set the aesthetic using Seaborn\n",
    "sns.set()\n",
    "\n",
    "# Increase the size of the figure\n",
    "plt.figure(figsize=(9,6))\n",
    "\n",
    "# Plot the lat vs the max temp\n",
    "plt.scatter(x = weather_df['Latitude'], y = weather_df['Cloudiness'],\n",
    "            linewidths = 0.75, edgecolors = 'black', color = 'blue', s=35)\n",
    "\n",
    "# Add labeling\n",
    "# This extracts the date and returns it in the local time zone\n",
    "weather_dt = datetime.fromtimestamp(weather_df.loc[0,\"Date\"]).strftime('%Y-%m-%d')\n",
    "plt.title(f\"Latitude vs. Cloudiness ({weather_dt})\")\n",
    "plt.xlabel(\"Latitude\")\n",
    "plt.ylabel(\"Cloudiness (%)\")\n",
    "\n",
    "# Modify ticks\n",
    "plt.xlim(-80,100)\n",
    "plt.ylim(-10, 110)\n",
    "\n",
    "\n",
    "plt.show()"
   ]
  },
  {
   "cell_type": "markdown",
   "metadata": {},
   "source": [
    "#### Latitude vs. Wind Speed Plot"
   ]
  },
  {
   "cell_type": "code",
   "execution_count": 23,
   "metadata": {},
   "outputs": [
    {
     "ename": "NameError",
     "evalue": "name 'weather_df' is not defined",
     "output_type": "error",
     "traceback": [
      "\u001b[1;31m---------------------------------------------------------------------------\u001b[0m",
      "\u001b[1;31mNameError\u001b[0m                                 Traceback (most recent call last)",
      "\u001b[1;32m<ipython-input-23-bcec9982c18b>\u001b[0m in \u001b[0;36m<module>\u001b[1;34m\u001b[0m\n\u001b[0;32m      7\u001b[0m \u001b[1;33m\u001b[0m\u001b[0m\n\u001b[0;32m      8\u001b[0m \u001b[1;31m# Plot the lat vs the max temp\u001b[0m\u001b[1;33m\u001b[0m\u001b[1;33m\u001b[0m\u001b[1;33m\u001b[0m\u001b[0m\n\u001b[1;32m----> 9\u001b[1;33m plt.scatter(x = weather_df['Latitude'], y = weather_df['Wind Speed'],\n\u001b[0m\u001b[0;32m     10\u001b[0m             linewidths = 0.75, edgecolors = 'black', color = 'blue', s=35)\n\u001b[0;32m     11\u001b[0m \u001b[1;33m\u001b[0m\u001b[0m\n",
      "\u001b[1;31mNameError\u001b[0m: name 'weather_df' is not defined"
     ]
    },
    {
     "data": {
      "text/plain": [
       "<Figure size 648x432 with 0 Axes>"
      ]
     },
     "metadata": {},
     "output_type": "display_data"
    }
   ],
   "source": [
    "\n",
    "# Set the aesthetic using Seaborn\n",
    "sns.set()\n",
    "\n",
    "# Increase the size of the figure\n",
    "plt.figure(figsize=(9,6))\n",
    "\n",
    "# Plot the lat vs the max temp\n",
    "plt.scatter(x = weather_df['Latitude'], y = weather_df['Wind Speed'],\n",
    "            linewidths = 0.75, edgecolors = 'black', color = 'blue', s=35)\n",
    "\n",
    "# Add labeling\n",
    "# This extracts the date and returns it in the local time zone\n",
    "weather_dt = datetime.fromtimestamp(weather_df.loc[0,\"Date\"]).strftime('%Y-%m-%d')\n",
    "plt.title(f\"Latitude vs. Wind Speed ({weather_dt})\")\n",
    "plt.xlabel(\"Latitude\")\n",
    "plt.ylabel(\"Wind Speed (mph)\")\n",
    "\n",
    "# Modify ticks\n",
    "plt.xlim(-80,100)\n",
    "plt.ylim(-5, max(weather_df['Wind Speed'])+5)\n",
    "\n",
    "\n",
    "plt.show()"
   ]
  },
  {
   "cell_type": "code",
   "execution_count": null,
   "metadata": {},
   "outputs": [],
   "source": []
  },
  {
   "cell_type": "code",
   "execution_count": null,
   "metadata": {},
   "outputs": [],
   "source": []
  }
 ],
 "metadata": {
  "anaconda-cloud": {},
  "kernel_info": {
   "name": "python3"
  },
  "kernelspec": {
   "display_name": "Python 3",
   "language": "python",
   "name": "python3"
  },
  "language_info": {
   "codemirror_mode": {
    "name": "ipython",
    "version": 3
   },
   "file_extension": ".py",
   "mimetype": "text/x-python",
   "name": "python",
   "nbconvert_exporter": "python",
   "pygments_lexer": "ipython3",
   "version": "3.7.3"
  },
  "nteract": {
   "version": "0.12.3"
  }
 },
 "nbformat": 4,
 "nbformat_minor": 2
}
