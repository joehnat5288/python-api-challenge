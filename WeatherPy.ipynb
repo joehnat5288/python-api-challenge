{
 "cells": [
  {
   "cell_type": "markdown",
   "metadata": {},
   "source": [
    "# WeatherPy\n",
    "----\n",
    "\n",
    "#### Note\n",
    "* Instructions have been included for each segment. You do not have to follow them exactly, but they are included to help you think through the steps."
   ]
  },
  {
   "cell_type": "code",
   "execution_count": null,
   "metadata": {
    "scrolled": true
   },
   "outputs": [],
   "source": [
    "# Dependencies and Setup\n",
    "import matplotlib.pyplot as plt\n",
    "import pandas as pd\n",
    "import numpy as np\n",
    "import requests\n",
    "import time\n",
    "\n",
    "# API key\n",
    "from api_keys import api_key\n",
    "\n",
    "# citipy to determine city based on latitude and longitude\n",
    "from citipy import citipy\n",
    "\n",
    "# CSV\n",
    "output_data_file = \"output_data/cities.csv\"\n",
    "\n",
    "# Range of latitudes and longitudes\n",
    "lat_range = (-90, 90)\n",
    "lng_range = (-180, 180)"
   ]
  },
  {
   "cell_type": "markdown",
   "metadata": {},
   "source": [
    "## Generate Cities List"
   ]
  },
  {
   "cell_type": "code",
   "execution_count": null,
   "metadata": {},
   "outputs": [],
   "source": [
    "# lat_lngs and cities\n",
    "lat_lngs = []\n",
    "cities = []\n",
    "\n",
    "# Create a set of random lat and lng combinations\n",
    "lats = np.random.uniform(low=-90.000, high=90.000, size=1500)\n",
    "lngs = np.random.uniform(low=-180.000, high=180.000, size=1500)\n",
    "lat_lngs = zip(lats, lngs)\n",
    "\n",
    "# Identify nearest city for each lat, lng combination\n",
    "for lat_lng in lat_lngs:\n",
    "    city = citipy.nearest_city(lat_lng[0], lat_lng[1]).city_name\n",
    "    \n",
    "    # If the city is unique, then add it to a our cities list\n",
    "    if city not in cities:\n",
    "        cities.append(city)\n",
    "\n",
    "# Print the city count to confirm sufficient count\n",
    "len(cities)"
   ]
  },
  {
   "cell_type": "markdown",
   "metadata": {},
   "source": [
    "### Perform API Calls\n",
    "* Perform a weather check on each city using a series of successive API calls.\n",
    "* Include a print log of each city as it'sbeing processed (with the city number and city name).\n"
   ]
  },
  {
   "cell_type": "code",
   "execution_count": null,
   "metadata": {},
   "outputs": [],
   "source": [
    "# construct url\n",
    "base_url = \"http://api.openweathermap.org/data/2.5/weather?\"\n",
    "app_id = f\"appid={api_key}\"\n",
    "unit = f\"&units=imperial\"\n",
    "next_query = \"&q=\"\n",
    "\n",
    "url = base_url + app_id + unit + next_query\n",
    "\n",
    "# lists for loop results\n",
    "temp = []\n",
    "humidity = []\n",
    "cloudiness = []\n",
    "windspeed = []\n",
    "city_name = []\n",
    "country = []\n",
    "lat = []\n",
    "lng = []\n",
    "date = []\n",
    "\n",
    "# api call count\n",
    "call_count = 1\n",
    "\n",
    "# print statement\n",
    "print(f\"Start of API call...\")\n",
    "\n",
    "# stupid start for loop to get response\n",
    "for city in cities:\n",
    "    try:\n",
    "        response = requests.get(f\"{url} + {city}\").json()\n",
    "        temp.append(response['main']['temp_max'])\n",
    "        humidity.append(response['main']['humidity'])\n",
    "        cloudiness.append(response['clouds']['all'])\n",
    "        windspeed.append(response['wind']['speed'])\n",
    "        lat.append(response['coord']['lat'])\n",
    "        lng.append(response['coord']['lon'])\n",
    "        city_name.append(response[\"name\"])\n",
    "        country.append(response['sys']['country'])\n",
    "        date.append(response['dt'])\n",
    "        print(f\"Processing Record {call_count} | {city_name}\")\n",
    "        call_count = call_count + 1        \n",
    "    except:\n",
    "        print(\"No city found...\")\n",
    "    continue\n",
    "  "
   ]
  },
  {
   "cell_type": "code",
   "execution_count": null,
   "metadata": {},
   "outputs": [],
   "source": [
    "#Make a dataframe\n",
    "\n",
    "\n",
    "# dict for df\n",
    "dict = {\n",
    "    \"City\":city_name,\n",
    "    \"Cloudiness\":cloudiness,\n",
    "    \"Country\":country,\n",
    "    \"Date\":date,\n",
    "    \"Humidity\":humidity,\n",
    "    \"Latitude\":lat,\n",
    "    \"Longitude\":lng,\n",
    "    \"High Temperature\":temp,\n",
    "    \"Wind Speed\":windspeed\n",
    "}\n",
    "\n",
    "# convert to a dataframe\n",
    "df = pd.DataFrame(dict)\n",
    "\n",
    "# output to csv\n",
    "df.to_csv('weather_data.csv')"
   ]
  },
  {
   "cell_type": "code",
   "execution_count": null,
   "metadata": {},
   "outputs": [],
   "source": [
    "# Remove any cities that have NaN values\n",
    "weather_df = weather_df.dropna(how='any')\n",
    "\n",
    "print(f\"The data frame contains {len(weather_df['City'])} unique cities.\")"
   ]
  },
  {
   "cell_type": "code",
   "execution_count": null,
   "metadata": {},
   "outputs": [],
   "source": [
    "weather_df.head()"
   ]
  },
  {
   "cell_type": "markdown",
   "metadata": {},
   "source": [
    "### Plotting the Data\n",
    "* Use proper labeling of the plots using plot titles (including date of analysis) and axes labels.\n",
    "* Save the plotted figures as .pngs."
   ]
  },
  {
   "cell_type": "markdown",
   "metadata": {},
   "source": [
    "#### Latitude vs. Temperature Plot"
   ]
  },
  {
   "cell_type": "code",
   "execution_count": null,
   "metadata": {},
   "outputs": [],
   "source": [
    "# plot\n",
    "plt.scatter(df['Latitude'], df['High Temperature'], marker=\"o\", edgecolors='green', facecolors='white')\n",
    "\n",
    "# make it sexy\n",
    "plt.grid(True)\n",
    "plt.title('Latitude vs. Temperature')\n",
    "plt.xlabel('Latitude')\n",
    "plt.ylabel('Tempurature')\n",
    "\n",
    "# save the thing\n",
    "plt.savefig('lat_vs_temp.png')"
   ]
  },
  {
   "cell_type": "markdown",
   "metadata": {},
   "source": [
    "#### Latitude vs. Humidity Plot"
   ]
  },
  {
   "cell_type": "code",
   "execution_count": null,
   "metadata": {},
   "outputs": [],
   "source": [
    "# plot\n",
    "plt.scatter(df['Latitude'], df['Humidity'], marker=\"o\", edgecolors='yellow', facecolors='red')\n",
    "\n",
    "# make it sexy\n",
    "plt.grid(True)\n",
    "plt.title('Latitude vs. Humidity')\n",
    "plt.xlabel('Latitude')\n",
    "plt.ylabel('Humidity')\n",
    "\n",
    "# save the thing\n",
    "plt.savefig('lat_vs_humidity.png')"
   ]
  },
  {
   "cell_type": "markdown",
   "metadata": {},
   "source": [
    "#### Latitude vs. Cloudiness Plot"
   ]
  },
  {
   "cell_type": "code",
   "execution_count": null,
   "metadata": {},
   "outputs": [],
   "source": [
    "# plot\n",
    "plt.scatter(df['Latitude'], df['Cloudiness'], marker=\"o\", edgecolors='blue', facecolors='black')\n",
    "\n",
    "# make it sexy\n",
    "plt.grid(True)\n",
    "plt.title('Latitude vs. Cloudiness')\n",
    "plt.xlabel('Latitude')\n",
    "plt.ylabel('Cloudiness')\n",
    "\n",
    "# save the thing\n",
    "plt.savefig('lat_vs_cloudiness.png')"
   ]
  },
  {
   "cell_type": "markdown",
   "metadata": {},
   "source": [
    "#### Latitude vs. Wind Speed Plot"
   ]
  },
  {
   "cell_type": "code",
   "execution_count": null,
   "metadata": {},
   "outputs": [],
   "source": [
    "# plot\n",
    "plt.scatter(df['Latitude'], df['Wind Speed'], marker=\"o\", edgecolors='gold', facecolors='green')\n",
    "\n",
    "# make it sexy\n",
    "plt.grid(True)\n",
    "plt.title('Latitude vs. Wind Speed')\n",
    "plt.xlabel('Latitude')\n",
    "plt.ylabel('Wind Speed')\n",
    "\n",
    "# save the thing\n",
    "plt.savefig('lat_vs_windspeed.png')"
   ]
  },
  {
   "cell_type": "code",
   "execution_count": null,
   "metadata": {},
   "outputs": [],
   "source": [
    "### Final Analysis\n",
    "\n",
    "#Temperature - Temperature stays near the same range  near the equator.\n",
    "#the temperature varies more as you go from latitude 20 to 80.  There is more range.\n",
    "\n",
    "#Humidity - Humidity is between 80-100% more North of the Equator than South of it, which make no sense because humidity, stickiness increases as you go south, i.e. get closer to the equator.  I need more data.\n",
    "\n",
    "#Cloudiness - not enough data to make a conclusion other than random\n",
    "\n",
    "#Wind Speed - Wind speeds stay around the 0-20 range throughout the tropics (-60 to 60 degrees latitude) \n",
    "\n",
    "#Final Thoughts\n",
    " #Temperature and latitude are related"
   ]
  },
  {
   "cell_type": "code",
   "execution_count": null,
   "metadata": {},
   "outputs": [],
   "source": []
  }
 ],
 "metadata": {
  "anaconda-cloud": {},
  "kernel_info": {
   "name": "python3"
  },
  "kernelspec": {
   "display_name": "Python 3",
   "language": "python",
   "name": "python3"
  },
  "language_info": {
   "codemirror_mode": {
    "name": "ipython",
    "version": 3
   },
   "file_extension": ".py",
   "mimetype": "text/x-python",
   "name": "python",
   "nbconvert_exporter": "python",
   "pygments_lexer": "ipython3",
   "version": "3.7.3"
  },
  "nteract": {
   "version": "0.12.3"
  }
 },
 "nbformat": 4,
 "nbformat_minor": 2
}
